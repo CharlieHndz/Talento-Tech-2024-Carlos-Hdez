{
  "nbformat": 4,
  "nbformat_minor": 0,
  "metadata": {
    "colab": {
      "provenance": [],
      "authorship_tag": "ABX9TyMXENvW4yjLWu6LXlZnaBiy",
      "include_colab_link": true
    },
    "kernelspec": {
      "name": "python3",
      "display_name": "Python 3"
    },
    "language_info": {
      "name": "python"
    }
  },
  "cells": [
    {
      "cell_type": "markdown",
      "metadata": {
        "id": "view-in-github",
        "colab_type": "text"
      },
      "source": [
        "<a href=\"https://colab.research.google.com/github/CharlieHndz/Talento-Tech-2024-Carlos-Hdez/blob/main/Practica_SQL.ipynb\" target=\"_parent\"><img src=\"https://colab.research.google.com/assets/colab-badge.svg\" alt=\"Open In Colab\"/></a>"
      ]
    },
    {
      "cell_type": "markdown",
      "source": [
        "#*INTRODUCCIÓN*\n",
        "\n",
        "Usaré esta notebook para proporcionar una introducción a SQL, lenguaje imprescindible para todo analista de datos.\n",
        "\n",
        "Los sistemas gestores de bases de datos interpretan consultas escritas en lenguaje SQL, y así es como interactuamos y obtenemos datos de las bases de datos y aplicaciones.\n",
        "\n",
        "* SQL significa Structured Query Language (Lenguaje de consulta estructurado)\n",
        "* SQL permite acceder y manipular bases de datos\n",
        "* SQL es una herramienta simple para el análisis avanzado de datos\n",
        "\n",
        "SQL no se usa sólo para manipular datos, sino también para administrar la misma base de datos, crear y modificar el diseño de objetos de la base de datos, como tablas. El elemento de SQL que se usa para crear y modificar objetos de base de datos se denomina lenguaje de definición de datos (DDL). Este curso no trata DDL.\n",
        "\n",
        "En esta notebook veremos cómo trabajar/manipular tablas. Aprenderemos a usar SQL para interactuar con una base de datos de fútbol europeo y generar información interesante con sus datos."
      ],
      "metadata": {
        "id": "ylEQTMeUdXrs"
      }
    },
    {
      "cell_type": "markdown",
      "source": [
        "#*1.1 Definiciones importantes*\n",
        "\n",
        "Aunque SQL es un estándar ANSI/ISO, existen diferentes versiones del lenguaje SQL. Sin embargo, para cumplir con el estándar del American National Standards Institute (ANSI), todas las versiones deben soportar al menos los comandos principales (como SELECT, UPDATE, DELETE, INSERT, WHERE) de forma similar.\n",
        "\n",
        "En este caso, vamos a trabajar con SQLite que es una implementación específica. La mayoría de los lenguajes SQL comparten todas las capacidades de este notebook. Las diferencias suelen estar en el rendimiento y en las funcionalidades analíticas avanzadas (y a veces en los errores, por supuesto).\n",
        "\n"
      ],
      "metadata": {
        "id": "dJQESN1ud6X3"
      }
    },
    {
      "cell_type": "markdown",
      "source": [
        "#*1.2 ¿Qué es SQLite?*\n",
        "\n",
        "SQLite es una biblioteca de software que proporciona un sistema de gestión de bases de datos relacionales que se puede utilizar en casi todos los lenguajes de programación, incluido Python.\n",
        "\n",
        "El lite en SQLite significa facilidad en términos de configuración, administración de la base de datos y recursos necesarios. Las siguientes son sus características más importantes: es autónomo, sin servidor y transaccional.\n",
        "\n",
        "Más información acerca de SQLite: https://www.sqlitetutorial.net/"
      ],
      "metadata": {
        "id": "DA_JlVGPeJL4"
      }
    },
    {
      "cell_type": "markdown",
      "source": [
        "## *1.2.1 Configuraciones previas*\n",
        "\n",
        "SQLite se puede utilizar en casi todos los lenguajes de programación, incluido Python. Esta notebook corre en Python, por lo que vamos a importar la librería de SQLite y otras que nos pueden ser de utilidad más adelante.\n",
        "\n",
        "Asimismo, crearemos la conexión con la BD y listaremos las tablas con las que contamos."
      ],
      "metadata": {
        "id": "7oMpGlMWeYU2"
      }
    },
    {
      "cell_type": "code",
      "execution_count": 1,
      "metadata": {
        "id": "0W28369tw7nO"
      },
      "outputs": [],
      "source": [
        "#1.1.Importación de librerías\n",
        "import pandas as pd   # libreria de python para manipulacion de datos\n",
        "import sqlite3        # libreria de SQLite (Liviana)"
      ]
    },
    {
      "cell_type": "code",
      "source": [
        "#1.2. Lectura del Drive\n",
        "from google.colab import drive\n",
        "drive.mount('/content/drive')"
      ],
      "metadata": {
        "id": "0zNcAMua04Kw"
      },
      "execution_count": null,
      "outputs": []
    },
    {
      "cell_type": "code",
      "source": [
        "#1.3. # Los datos de entrada están disponibles en la ruta del Drive personal de Carlos Hernandez\n",
        "database = \"/content/drive/MyDrive/Talento_Tech_Archivos/database.sqlite\""
      ],
      "metadata": {
        "id": "xRiyqfbj0_A2"
      },
      "execution_count": 3,
      "outputs": []
    },
    {
      "cell_type": "code",
      "source": [
        "#1.4. Conectamos con el origen de datos, creamos la conexión con la BD\n",
        "conn = sqlite3.connect(database)\n",
        "print (\"Conexión exitosa\")"
      ],
      "metadata": {
        "id": "dO7NblxWD3XR"
      },
      "execution_count": null,
      "outputs": []
    },
    {
      "cell_type": "markdown",
      "source": [
        "##*2. Sentencia SELECT*\n",
        "\n",
        "Esta es la consulta más básica y su estructura es muy simple:\n",
        "\n",
        "* Se define lo que se quiere ver después del SELECT\n",
        "* Se eligen las tablas a consultar después del FROM\n",
        "\n",
        "Las únicas partes imprescindibles de una consulta son el SELECT y el FROM.\n",
        "\n",
        "La sintaxis de esta consulta es así:\n",
        "\n",
        "SELECT column1, column2, ... FROM table_name;\n",
        "\n",
        "Para consultar por todos los campos en una tabla sin tener que escribir uno por uno el nombre de cada campo, se utiliza SELECT *\n",
        "\n",
        "SELECT * significa que quieres obtener todas las columnas posibles de la tabla consultada. Los datos devueltos se almacenan en una tabla de resultados, denominada conjunto de resultados.\n",
        "\n",
        "La sintaxis de esta consulta es así:\n",
        "\n",
        "SELECT * FROM table_name;\n",
        "\n",
        "Es una buena práctica terminar la consulta con un punto y coma para indicar que la consulta está completa. Las palabras clave se escriben en mayúsculas y los nombres de tablas y campos se escriben en minúsculas."
      ],
      "metadata": {
        "id": "Fg1lnCimfJnH"
      }
    },
    {
      "cell_type": "code",
      "source": [
        "#2.1.1 Listaremos las tablas con las que contamos\n",
        "tables = pd.read_sql(\"\"\"select * from sqlite_master WHERE type='table';\"\"\", conn)\n",
        "tables"
      ],
      "metadata": {
        "id": "8MGr0jF4ECoR"
      },
      "execution_count": null,
      "outputs": []
    },
    {
      "cell_type": "code",
      "source": [
        "#2.1.2 Se va listar los paises, selecionando todas las columnas de la tabla Country\n",
        "\n",
        "query = \"\"\"select * from Country\"\"\"\n",
        "Countries = pd.read_sql(query, conn)\n",
        "Countries"
      ],
      "metadata": {
        "id": "kWto3W4_E1nR"
      },
      "execution_count": null,
      "outputs": []
    },
    {
      "cell_type": "code",
      "source": [
        "#2.1.3 Se va listar Listar las ligas del fútbol europeo,  selecionando todas las columnas de la tabla League\n",
        "\n",
        "query = \"\"\"select * from League\"\"\"\n",
        "Leagues = pd.read_sql(query, conn)\n",
        "Leagues"
      ],
      "metadata": {
        "id": "LNzXtnAwFhXx"
      },
      "execution_count": null,
      "outputs": []
    },
    {
      "cell_type": "code",
      "source": [
        "#2.1.4 Listar los jugadores del fútbol europeo, selecionando todas las columnas de la tabla Player\n",
        "\n",
        "query =\"\"\"select * from Player\"\"\"\n",
        "Players = pd.read_sql(query, conn)\n",
        "Players\n"
      ],
      "metadata": {
        "id": "nZYmAe0wGK5b"
      },
      "execution_count": null,
      "outputs": []
    },
    {
      "cell_type": "code",
      "source": [
        " #2.1.5 Listar los juegos del fútbol europeo, selecionando todas las columnas de la tabla Match\n",
        "\n",
        "query =\"\"\"select * from Match\"\"\"\n",
        "Matches = pd.read_sql(query, conn)\n",
        "Matches"
      ],
      "metadata": {
        "id": "OV_OXoEBHNx5"
      },
      "execution_count": null,
      "outputs": []
    },
    {
      "cell_type": "code",
      "source": [
        " #2.1.6 Listar los juegos equipos del fútbol europeo, selecionando todas las columnas de la tabla Team\n",
        "\n",
        "query =\"\"\"select * from Team\"\"\"\n",
        "Team = pd.read_sql(query, conn)\n",
        "Team"
      ],
      "metadata": {
        "id": "XbSc-rgBIZx3"
      },
      "execution_count": null,
      "outputs": []
    },
    {
      "cell_type": "code",
      "source": [
        " #2.1.7 Listar los atributos de jugador, selecionando todas las columnas de la tabla Player_Attributes\n",
        "\n",
        "query =\"\"\"select * from Player_Attributes\"\"\"\n",
        "Player_Attributes = pd.read_sql(query, conn)\n",
        "Player_Attributes"
      ],
      "metadata": {
        "id": "LcEUTmnPIp-R"
      },
      "execution_count": null,
      "outputs": []
    },
    {
      "cell_type": "code",
      "source": [
        "#2.1.8 Listar los atributos de equipo, selecionando todas las columnas de la tabla Team_Attributes\n",
        "\n",
        "query =\"\"\"select * from Team_Attributes\"\"\"\n",
        "Team_Attributes = pd.read_sql(query, conn)\n",
        "Team_Attributes"
      ],
      "metadata": {
        "id": "MdhAl4bfI6kY"
      },
      "execution_count": null,
      "outputs": []
    },
    {
      "cell_type": "markdown",
      "source": [
        "##*2.2 Sentencia SELECT DISTINCT*\n",
        "\n",
        "La sentencia SELECT DISTINCT se utiliza para devolver sólo valores distintos (diferentes).\n",
        "\n",
        "Dentro de una tabla, una columna a menudo contiene muchos valores duplicados y a veces sólo se desea listar los diferentes valores (distintos).\n",
        "\n",
        "La sintaxis de SELECT DISTINCT es así:\n",
        "\n",
        "SELECT DISTINCT column1 FROM table_name;"
      ],
      "metadata": {
        "id": "H-v76NcGf3mD"
      }
    },
    {
      "cell_type": "code",
      "source": [
        "#2.2.1 Función Ditinct, Listar las temporadas jugadas de esta Base de Datos\n",
        "# desde la tabla Match, selecionamos la columna season y eliminamos valores repetidos.\n",
        "\n",
        "query = \"\"\"select distinct season from Match\"\"\"\n",
        "seasons = pd.read_sql(query, conn)\n",
        "seasons"
      ],
      "metadata": {
        "id": "E9lErxKHJbop"
      },
      "execution_count": null,
      "outputs": []
    },
    {
      "cell_type": "code",
      "source": [
        "#2.2.2 Listar sólo tasas diferentes de valoración general de los jugadores.\n",
        "# desde la tabla Player_Attributes, seleccionamos la columna overall_rating\n",
        "\n",
        "query = \"\"\"select distinct overall_rating from Player_Attributes\"\"\"\n",
        "valoracion = pd.read_sql(query, conn)\n",
        "valoracion\n"
      ],
      "metadata": {
        "id": "tegNWjTqLLKR"
      },
      "execution_count": null,
      "outputs": []
    },
    {
      "cell_type": "markdown",
      "source": [
        "##*3. Sentencia LIMIT*\n",
        "\n",
        "Cuando deseamos poner un límite al resultado o no nos interesa conocer la totalidad de los resultados, podemos limitar la cantidad de registros resultantes mediante la sentencia LIMIT\n",
        "\n",
        "La sintaxis de LIMIT es así:\n",
        "\n",
        "SELECT column1, column2... FROM table_name LIMIT number;"
      ],
      "metadata": {
        "id": "AJ4ZDmN7gzId"
      }
    },
    {
      "cell_type": "code",
      "source": [
        "#3.1.1 Listar 15 jugadores de la base de datos del fútbol europeo\n",
        "\n",
        "query =  \"\"\"select \tid, player_name, birthday, height, weight from Player limit 15\"\"\"\n",
        "Los_15jugadores = pd.read_sql(query ,conn)\n",
        "Los_15jugadores\n"
      ],
      "metadata": {
        "id": "qqkyIdk0MiO2"
      },
      "execution_count": null,
      "outputs": []
    },
    {
      "cell_type": "code",
      "source": [
        "#3.1.2 Listar 25 equipos del fútbol europeo\n",
        "\n",
        "query = \"\"\"select id, team_long_name from Team limit 25\"\"\"\n",
        "Los_25equipos = pd.read_sql(query, conn)\n",
        "Los_25equipos"
      ],
      "metadata": {
        "id": "Zzcbd1txN9Om"
      },
      "execution_count": null,
      "outputs": []
    },
    {
      "cell_type": "markdown",
      "source": [],
      "metadata": {
        "id": "2bJbtN6fiwdK"
      }
    },
    {
      "cell_type": "markdown",
      "source": [
        "##*4. Funciones agregativas/ Métricas*\n",
        "\n",
        "Todas las métricas tienen que ser agregadas usando funciones. Las funciones agregativas más comunes son:\n",
        "\n",
        "* SUM() | Sumatoria total de una columna tipo numérica.\n",
        "* COUNT() | Devuelve la cantidad de filas.\n",
        "* COUNT(DISTINCT) | Devuelve la cantidad de filas distintas o diferentes.\n",
        "* AVG() | Promedia los valores de una columna tipo numérica.\n",
        "* MIN() | Menor valor dentro de la columna especificada.\n",
        "* MAX() | Mayor valor dentro de la columna especificada.\n",
        "\n",
        "La sintaxis de las métricas en la sentencia SELECT es así:\n",
        "\n",
        "* SUM() SELECT SUM(column1), column2... FROM table_name\n",
        "* COUNT() SELECT COUNT(column1), column2...  FROM table_name\n",
        "* COUNT(DISTINCT) SELECT COUNT(DISTINCT column1), column2... FROM table_name\n",
        "* AVG() SELECT AVG(column1), column2... FROM table_name\n",
        "* MIN() SELECT MIN(column1), column2... FROM table_name\n",
        "* MAX() SELECT MAX(column1), column2... FROM table_name"
      ],
      "metadata": {
        "id": "XUOnBZehhIYO"
      }
    },
    {
      "cell_type": "code",
      "source": [
        "#4.1.1 ¿Cuántos países diferentes están almacenados en la tabla Country?\n",
        "\n",
        "query = \"\"\"select count(distinct name) as Numero_Paises from Country\"\"\"\n",
        "coumt_countries = pd.read_sql(query,conn)\n",
        "coumt_countries"
      ],
      "metadata": {
        "id": "jGkupPaCjq0a"
      },
      "execution_count": null,
      "outputs": []
    },
    {
      "cell_type": "code",
      "source": [
        "#4.1.2 Traer el número de etapas jugadas de la tabla Match\n",
        "#Deben traer el número de etapas \"stage\" almacenados en la tabla \"Match\"\n",
        "#La tabla de resultados deberá mostrar únicamente el número con la cantidad de etapas diferentes.\n",
        "\n",
        "query = \"\"\" select count(DISTINCT stage) as Etapas from Match\"\"\"\n",
        "count_stages = pd.read_sql(query, conn)\n",
        "count_stages\n"
      ],
      "metadata": {
        "id": "EUtNJDDCwCoh"
      },
      "execution_count": null,
      "outputs": []
    },
    {
      "cell_type": "code",
      "source": [
        "#4.1.3 Traer la suma de goles hechos por los equipos visitantes de la tabla Match\n",
        "#Deben traer la suma de goles hechos por los equipos visitantes \"away_team_goal\" almacenados en la tabla \"Match\"\n",
        "#La tabla de resultados deberá mostrar únicamente el número con la suma de goles.\n",
        "\n",
        "query = \"\"\" select sum(away_team_goal) as Goles_Visit from Match\"\"\"\n",
        "count_goles_visitante = pd.read_sql(query, conn)\n",
        "count_goles_visitante"
      ],
      "metadata": {
        "id": "tHOFbhjux2z_"
      },
      "execution_count": null,
      "outputs": []
    },
    {
      "cell_type": "code",
      "source": [
        "#4.1.4 Traer el promedio de goles hechos por los equipos locales y el promedio de goles hechos por los visitantes de la tabla Match\n",
        "#Deben traer el promedio de goles hechos por los equipos locales \"home_team_goal\" y el promedio de goles hechos por los equipos visitantes \"away_team_goal\" almacenados en la tabla \"Match\"\n",
        "#La tabla de resultados deberá mostrar únicamente el número con el promedio de goles.\n",
        "\n",
        "query = \"\"\"select avg(home_team_goal) as Avg_Goles_Local,avg(away_team_goal) as Avg_Goles_Visit from Match\"\"\"\n",
        "avg_goles_plazas = pd.read_sql(query, conn)\n",
        "avg_goles_plazas\n",
        "\n"
      ],
      "metadata": {
        "id": "_KupCdCy0iTD"
      },
      "execution_count": null,
      "outputs": []
    },
    {
      "cell_type": "code",
      "source": [
        "#4.1.5 Traer la máxima cantidad de goles que un equipo visitante anotó en los juegos de la tabla Match\n",
        "#Deben traer la máxima cantidad de goles un equipo visitante \"away_team_goal\" almacenados en la tabla \"Match\"\n",
        "#La tabla de resultados deberá mostrar únicamente el número con cantidad de goles.\n",
        "\n",
        "query = \"\"\"select max(away_team_goal) as Max_Goles_Visitante from Match\"\"\"\n",
        "max_goles_visit = pd.read_sql(query, conn)\n",
        "max_goles_visit\n",
        "\n"
      ],
      "metadata": {
        "id": "ZDfddPel8ScZ"
      },
      "execution_count": null,
      "outputs": []
    },
    {
      "cell_type": "code",
      "source": [
        "#Ejercicio en Clase. Cual es la estatura promedio de los futbolistas\n",
        "\n",
        "query = \"\"\" select avg(height) as Est_Prom_Jug  from Player\"\"\"\n",
        "Estatura_promedio_jugadores = pd.read_sql(query,conn)\n",
        "Estatura_promedio_jugadores"
      ],
      "metadata": {
        "id": "FxRvRhwD4jVp"
      },
      "execution_count": null,
      "outputs": []
    },
    {
      "cell_type": "code",
      "source": [
        "#Ejercicio en Clase. Cual es el total de goles de equipos locales\n",
        "\n",
        "query = \"\"\"select sum(home_team_goal) as goles_local from Match\"\"\"\n",
        "Goles_local = pd.read_sql(query,conn)\n",
        "Goles_local"
      ],
      "metadata": {
        "id": "SUUdN1um56hx"
      },
      "execution_count": null,
      "outputs": []
    },
    {
      "cell_type": "markdown",
      "source": [
        "#*5. Operaciones matemáticas*\n",
        "Se pueden realizar operaciones matemáticas como: +, -, *, /, etc. Asimismo, estás operaciones pueden ser usadas en conjunto con las funciones agregativas/ métricas.\n",
        "\n",
        "* La sintaxis en la sentencia SELECT es así:\n",
        "\n",
        "  * (+)\n",
        "\n",
        "    SELECT column1+column2 FROM table_name\n",
        "  \n",
        "\n",
        "* La sintaxis combinando con una métrica en la sentencia SELECT es así:\n",
        "\n",
        "  * AVG(+)\n",
        "  \n",
        "    SELECT AVG(column1+column2) FROM table_name"
      ],
      "metadata": {
        "id": "Tyrq_SGwAoTX"
      }
    },
    {
      "cell_type": "code",
      "source": [
        "#5.1.1 Traer el promedio de goles por partido de la tabla Match\n",
        "#Deben traer el promedio de la suma de goles hechos por los equipos locales \"home_team_goal\" y visitantes \"away_team_goal\" en todos los juegos almacenados en la tabla Match\n",
        "#La tabla de resultados deberá mostrar únicamente el número con el promedio de goles por partido.\n",
        "\n",
        "query = \"\"\"select avg(home_team_goal + away_team_goal) as Avg_Goles_Partido from Match\"\"\"\n",
        "Avg_goles_partido = pd.read_sql(query, conn)\n",
        "Avg_goles_partido"
      ],
      "metadata": {
        "id": "6T3sB5NC94An"
      },
      "execution_count": null,
      "outputs": []
    },
    {
      "cell_type": "markdown",
      "source": [
        "#*6. Sentencia WHERE*\n",
        "\n",
        "La sentencia WHERE se utiliza para filtrar registros. Mediante esta sentencia, se extraen sólo aquellos registros que cumplen una condición específica.\n",
        "\n",
        "La sintaxis de WHERE es así:\n",
        "\n",
        "SELECT column1, column2...\n",
        "\n",
        "FROM table_name\n",
        "\n",
        "WHERE condition;"
      ],
      "metadata": {
        "id": "SVifCFv5J1Vo"
      }
    },
    {
      "cell_type": "markdown",
      "source": [
        "##*6.1 Campos de texto (y fecha) vs campos numéricos*\n",
        "\n",
        "SQL requiere comillas simples alrededor de los valores del texto y fecha (la mayoría de los sistemas de bases de datos también permiten comillas dobles). Sin embargo, los campos numéricos no deben incluirse entre comillas.\n",
        "\n",
        "Ejemplos de sintaxis con campo númerico:\n",
        "\n",
        "SELECT *\n",
        "\n",
        "FROM Customers\n",
        "\n",
        "WHERE CustomerId = 1;\n",
        "\n",
        "Ejemplos de sintaxis con campo de texto:\n",
        "\n",
        "SELECT *\n",
        "\n",
        "FROM Customers\n",
        "\n",
        "WHERE Country = 'Mexico';"
      ],
      "metadata": {
        "id": "2O6vevvsKKps"
      }
    },
    {
      "cell_type": "code",
      "source": [
        "#6.2.1 Listar los jugadores que pesan 165 libras\n",
        "#Queremos listar a los jugadores que cumplan con la condición de pesar 165 libras.\n",
        "#En la tabla de resultados quiero ver los campos id,player_name, birthday, height y weight de los que cumplen la condición.\n",
        "#Todos se encuentran en la tabla Player\n",
        "\n",
        "query = \"\"\"Select id, player_name, birthday, height, weight from Player where weight = 165;\"\"\"\n",
        "Jugadores_165_lbs = pd.read_sql(query,conn);\n",
        "Jugadores_165_lbs"
      ],
      "metadata": {
        "id": "RqVxWLnRKDmF"
      },
      "execution_count": null,
      "outputs": []
    },
    {
      "cell_type": "code",
      "source": [
        "#6.2.2 Listar las temporadas en que un equipo visitante anotó 7 o más goles\n",
        "#Deben listar las temporadas en que algún equipo visitante haya anotado 7 o más goles.\n",
        "#La tabla de resultados deberá contener los campos season, home_team_goal, away_team_goal de la tabla Match\n",
        "\n",
        "query = \"\"\"select season, home_team_goal, away_team_goal from Match where away_team_goal >= 7;\"\"\"\n",
        "Visitante_7Goles = pd.read_sql(query,conn);\n",
        "Visitante_7Goles"
      ],
      "metadata": {
        "id": "04QfceaMMbvX"
      },
      "execution_count": null,
      "outputs": []
    },
    {
      "cell_type": "markdown",
      "source": [
        "#*6.3 Operadores lógicos en WHERE*\n",
        "La sentencia WHERE puede combinarse con los operadores lógicos: AND, OR y NOT. Los operadores AND y OR se utilizan para filtrar registros basados en más de una condición.\n",
        "\n",
        "El operador AND muestra un registro si todas las condiciones separadas por AND son VERDADERA(s).\n",
        "\n",
        "El operador OR muestra un registro si alguna de las condiciones separadas por OR es VERDADERA(s).\n",
        "\n",
        "El operador NOT muestra un registro si la(s) condición(es) NO es VERDADERA(s).\n",
        "\n",
        "Sintaxis deAND:\n",
        "\n",
        "SELECT column1, column2, ...\n",
        "\n",
        "FROM table_name\n",
        "\n",
        "WHERE condition1 AND condition2 AND condition3 ...;\n",
        "\n",
        "Sintaxis de OR\n",
        "\n",
        "SELECT column1, column2, ...\n",
        "\n",
        "FROM table_name\n",
        "\n",
        "WHERE condition1 OR condition2 ...;\n",
        "\n",
        "Sintaxis de NOT\n",
        "\n",
        "SELECT column1, column2, ...\n",
        "\n",
        "FROM table_name\n",
        "\n",
        "WHERE NOT condition;"
      ],
      "metadata": {
        "id": "KC8QR2qIORtm"
      }
    },
    {
      "cell_type": "code",
      "source": [
        "#6.3.1 Traer el Id de los equipos que desarrollan un dribbling normal y su velocidad de juego es balanceada\n",
        "#Tomando la tabla \"Team_Attributes\", deben obtener el id, buildUpPlayDribblingClass y buildUpPlaySpeedClass de los equipos que tengan los siguientes atributos:\n",
        "#buildUpPlayDribblingClass = 'Normal'\n",
        "#buildUpPlaySpeedClass = 'Balanced'\n",
        "\n",
        "query = \"\"\"select id from Team_Attributes where buildUpPlayDribblingClass = 'Normal' and buildUpPlaySpeedClass = 'Balanced' \"\"\"\n",
        "Dribling_Velocidad = pd.read_sql(query, conn);\n",
        "Dribling_Velocidad"
      ],
      "metadata": {
        "id": "lEBmHQe7Oxv2"
      },
      "execution_count": null,
      "outputs": []
    },
    {
      "cell_type": "code",
      "source": [
        "#6.3.2 Traer el Id de los equipos que desarrollan un juego de pase largo o su velocidad de juego es rápida\n",
        "#Tomando la tabla Team_Attributes, deben obtener el id, buildUpPlayPassingClass y buildUpPlaySpeedClass de los equipos que tengan los siguientes atributos:\n",
        "buildUpPlayPassingClass = 'Long'\n",
        "buildUpPlaySpeedClass = 'Fast'\n",
        "\n",
        "query = \"\"\"select id from Team_Attributes where buildUpPlayPassingClass = 'Long' and buildUpPlaySpeedClass = 'Fast' \"\"\"\n",
        "PaseLargo_Velocidad = pd.read_sql(query, conn);\n",
        "PaseLargo_Velocidad"
      ],
      "metadata": {
        "id": "CxxcTV-cRtvS"
      },
      "execution_count": null,
      "outputs": []
    },
    {
      "cell_type": "code",
      "source": [
        "#6.3.3 Traer la tabla de países sin Bélgica\n",
        "#Deben filtrar la tabla de países y traerla sin Belgium.\n",
        "#La tabla de resultados deberá contener los campos id y name de la tabla Country\n",
        "\n",
        "query = \"\"\"select id, name from Country where not name = 'Belgium'\"\"\"\n",
        "Sin_Belgica = pd.read_sql(query, conn);\n",
        "Sin_Belgica"
      ],
      "metadata": {
        "id": "rQitZ7zVScs0"
      },
      "execution_count": null,
      "outputs": []
    },
    {
      "cell_type": "markdown",
      "source": [
        "#*6.4 Otros operadores que trabajan con la sentencia WHERE*\n",
        "\n",
        "Los siguientes operadores también pueden ser utilizados en la sentencia WHERE:\n",
        "\n",
        "* | = | Igual\n",
        "* | > | Mayor que\n",
        "* | < | Menor que\n",
        "* | >= | Mayor o igual que\n",
        "* | <= | Menor o igual que\n",
        "* | <> | No igual. Nota: En algunas versiones de SQL este operador puede ser escrito como !=\n",
        "* | BETWEEN | Entre cierto rango\n",
        "* | LIKE | Para consultar los datos basados en información parcial, se utiliza el operador LIKE en la sentencia WHERE. Busca un patrón. El patrón va antes, después o entre un par de % (wildcard). Ejemplo: LIKE 's%' busca cualquier texto que comience con 's'. LIKE '%er' busca cualquier texto que termine con 'er'. Y LIKE '%per%' busca cualquier texto que contenga 'per'.\n",
        "* | IN | Para especificar varios valores posibles para una columna o subquery. Ejemplo de sintaxis cuando se especifica varios valores:\n",
        "\n",
        "SELECT column1 FROM Table_name WHERE column1 IN (value1, value2);.\n",
        "\n",
        "Ejemplo de sintaxis cuando se usa IN en una subquery:\n",
        "\n",
        "SELECT TrackId, Name, AlbumId FROM Tracks WHERE AlbumId IN (SELECT AlbumId FROM Albums WHERE ArtistId = 12);."
      ],
      "metadata": {
        "id": "IJc2piZgTaYt"
      }
    },
    {
      "cell_type": "code",
      "source": [
        "#6.4.1 Traer la tabla de países únicamente con Italia\n",
        "#Deben filtrar la tabla de países y traer únicamente a Italy.\n",
        "#La tabla de resultados deberá contener los campos id y name de la tabla Country\n",
        "\n",
        "query = \"\"\"select id, name from Country where name = 'Italy'\"\"\"\n",
        "Solo_Italia = pd.read_sql(query, conn);\n",
        "Solo_Italia"
      ],
      "metadata": {
        "id": "TLCTAXEnUS_F"
      },
      "execution_count": null,
      "outputs": []
    },
    {
      "cell_type": "code",
      "source": [
        "#6.4.2 Traer la tabla de países sin Polonia\n",
        "#Deben traer la tabla de países sin Poland.\n",
        "#La tabla de resultados deberá contener los campos id y name de la tabla Country. No se debe utilizar NOT.\n",
        "\n",
        "query = \"\"\"select id, name from Country where name <> 'Poland'\"\"\"\n",
        "Sin_Polonia = pd.read_sql(query, conn);\n",
        "Sin_Polonia"
      ],
      "metadata": {
        "id": "KzbizacpVMHc"
      },
      "execution_count": null,
      "outputs": []
    },
    {
      "cell_type": "code",
      "source": [
        "#6.4.3 Listar los jugadores que pesen entre 174 y 176 libras\n",
        "#Queremos listar a los jugadores que cumplan con la condición de pesar entre 174 y 176 libras.\n",
        "#En la tabla de resultados quiero ver los campos id,player_name, birthday, height y weight de los que cumplen la condición.\n",
        "#Todos se encuentran en la tabla Player. Asimismo, debemos limitar la consulta a 30 registros.\n",
        "\n",
        "query = \"\"\"select id, player_name, birthday, height, weight from Player where weight between 174 and 176 limit 30\"\"\"\n",
        "Jugadores_174_176lbs = pd.read_sql(query, conn);\n",
        "Jugadores_174_176lbs"
      ],
      "metadata": {
        "id": "RT5DUZNIYnAa"
      },
      "execution_count": null,
      "outputs": []
    },
    {
      "cell_type": "code",
      "source": [
        "#6.4.4 Listar a los Messi de la base de datos de jugadores\n",
        "#Queremos listar a los jugadores que cumplan con la condición de tener la palabra 'Messi' en su nombre.\n",
        "#En la tabla de resultados quiero ver los campos id,player_name, birthday, height y weight de los que cumplen la condición.\n",
        "#Todos se encuentran en la tabla Player.\n",
        "\n",
        "query = \"\"\"select id, player_name, birthday, height, weight from Player where player_name like '%Messi%' \"\"\"\n",
        "Nombre_Messi = pd.read_sql(query, conn);\n",
        "Nombre_Messi"
      ],
      "metadata": {
        "id": "7xlGwMO-aQqi"
      },
      "execution_count": null,
      "outputs": []
    },
    {
      "cell_type": "markdown",
      "source": [
        "#*Alias AS*\n",
        "Los alias en SQL se utilizan para dar a una tabla o a una columna, un nombre temporal. Se utilizan a menudo para hacer más legibles los nombres de las columnas. Un alias sólo existe durante la duración de la consulta.\n",
        "\n",
        "Sintaxis de AS:\n",
        "\n",
        "SELECT column_name AS alias_name FROM table_name AS other_alias;"
      ],
      "metadata": {
        "id": "r4UnLoSYbaYL"
      }
    }
  ]
}