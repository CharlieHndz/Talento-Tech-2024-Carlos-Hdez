{
  "nbformat": 4,
  "nbformat_minor": 0,
  "metadata": {
    "colab": {
      "provenance": [],
      "authorship_tag": "ABX9TyNw3KS30w45cvvmt+vefNfJ",
      "include_colab_link": true
    },
    "kernelspec": {
      "name": "python3",
      "display_name": "Python 3"
    },
    "language_info": {
      "name": "python"
    }
  },
  "cells": [
    {
      "cell_type": "markdown",
      "metadata": {
        "id": "view-in-github",
        "colab_type": "text"
      },
      "source": [
        "<a href=\"https://colab.research.google.com/github/CharlieHndz/Talento-Tech-2024-Carlos-Hdez/blob/main/Proyecto_TT_Extracci%C3%B3n.ipynb\" target=\"_parent\"><img src=\"https://colab.research.google.com/assets/colab-badge.svg\" alt=\"Open In Colab\"/></a>"
      ]
    },
    {
      "cell_type": "code",
      "execution_count": 128,
      "metadata": {
        "colab": {
          "base_uri": "https://localhost:8080/"
        },
        "id": "8OU40elsnJdf",
        "outputId": "920a2f8a-d21b-45c4-82b2-73680947e1f0"
      },
      "outputs": [
        {
          "output_type": "stream",
          "name": "stdout",
          "text": [
            "Drive already mounted at /content/drive; to attempt to forcibly remount, call drive.mount(\"/content/drive\", force_remount=True).\n",
            "(287846, 12)\n"
          ]
        },
        {
          "output_type": "stream",
          "name": "stderr",
          "text": [
            "<ipython-input-128-edac2e0cdce4>:16: DtypeWarning: Columns (8) have mixed types. Specify dtype option on import or set low_memory=False.\n",
            "  data = pd.read_csv(url)\n"
          ]
        }
      ],
      "source": [
        "import csv\n",
        "import pandas as pd\n",
        "import urllib.request\n",
        "from io import StringIO\n",
        "\n",
        "from google.colab import drive\n",
        "drive.mount('/content/drive')\n",
        "\n",
        "#Importar Archivo csv desde Pagina Datos Abiertos Gobierno de Colombia\n",
        "url = 'https://www.datos.gov.co/resource/e97j-vuf7.csv?$limit=500000&$offset=12'\n",
        "respuesta = urllib.request.urlopen(url)\n",
        "f = StringIO(bytearray(respuesta.read()).decode())\n",
        "archivo = csv.reader(f)\n",
        "\n",
        "#Conectar con el origen de datos\n",
        "data = pd.read_csv(url)\n",
        "print(data.shape)"
      ]
    },
    {
      "cell_type": "code",
      "source": [
        "# Eliminar las columna 'latitud y longitud'\n",
        "columnas_eliminar = ['latitud', 'longitud']\n",
        "data = data.drop(columnas_eliminar, axis=1)\n",
        "print(data.shape)"
      ],
      "metadata": {
        "colab": {
          "base_uri": "https://localhost:8080/"
        },
        "id": "vCXh6jOutUcK",
        "outputId": "d730f86e-25f1-4c1f-a08c-84798102f3b8"
      },
      "execution_count": 129,
      "outputs": [
        {
          "output_type": "stream",
          "name": "stdout",
          "text": [
            "(287846, 10)\n"
          ]
        }
      ]
    },
    {
      "cell_type": "code",
      "source": [
        "ruta = \"/content/drive/MyDrive/Talento_Tech_Archivos/Dataset Colombianos Detenidos en el Exterior.csv\"\n",
        "data.to_csv(ruta, index=False)"
      ],
      "metadata": {
        "id": "i0_d9m5M0ESC"
      },
      "execution_count": 130,
      "outputs": []
    },
    {
      "cell_type": "code",
      "source": [
        "url2 = 'https://www.datos.gov.co/resource/y399-rzwf.csv?$limit=900000&$offset=12'\n",
        "respuesta2 = urllib.request.urlopen(url2)\n",
        "g = StringIO(bytearray(respuesta2.read()).decode())\n",
        "archivo2 = csv.reader(g)\n",
        "\n",
        "#Conectar con el origen de datos\n",
        "data2 = pd.read_csv(url2)\n",
        "print(data2.shape)"
      ],
      "metadata": {
        "colab": {
          "base_uri": "https://localhost:8080/"
        },
        "id": "QX2j7DMy24L5",
        "outputId": "dff2db6e-5eb3-4656-995c-2c3ed7ce45d0"
      },
      "execution_count": 141,
      "outputs": [
        {
          "output_type": "stream",
          "name": "stdout",
          "text": [
            "(747465, 14)\n"
          ]
        }
      ]
    },
    {
      "cell_type": "code",
      "source": [
        "# Eliminar las columna 'estatura_cm'\n",
        "data2 = data2.drop('estatura_cm', axis=1)\n",
        "print(data2.shape)"
      ],
      "metadata": {
        "colab": {
          "base_uri": "https://localhost:8080/"
        },
        "id": "edtqQByq43Ax",
        "outputId": "d8135cf7-5c57-44d0-911a-2ecd3449f950"
      },
      "execution_count": 142,
      "outputs": [
        {
          "output_type": "stream",
          "name": "stdout",
          "text": [
            "(747465, 13)\n"
          ]
        }
      ]
    },
    {
      "cell_type": "code",
      "source": [
        "ruta2 = \"/content/drive/MyDrive/Talento_Tech_Archivos/Dataset Colombianos Registrados en el Exterior.csv\"\n",
        "data2.to_csv(ruta2, index=False)"
      ],
      "metadata": {
        "id": "lAumEAGr6Ep5"
      },
      "execution_count": 144,
      "outputs": []
    }
  ]
}