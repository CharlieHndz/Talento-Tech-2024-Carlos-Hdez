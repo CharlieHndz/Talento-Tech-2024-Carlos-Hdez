{
  "nbformat": 4,
  "nbformat_minor": 0,
  "metadata": {
    "colab": {
      "provenance": [],
      "authorship_tag": "ABX9TyNw3KS30w45cvvmt+vefNfJ",
      "include_colab_link": true
    },
    "kernelspec": {
      "name": "python3",
      "display_name": "Python 3"
    },
    "language_info": {
      "name": "python"
    }
  },
  "cells": [
    {
      "cell_type": "markdown",
      "metadata": {
        "id": "view-in-github",
        "colab_type": "text"
      },
      "source": [
        "<a href=\"https://colab.research.google.com/github/CharlieHndz/Talento-Tech-2024-Carlos-Hdez/blob/main/Proyecto_TT_Extracci%C3%B3n.ipynb\" target=\"_parent\"><img src=\"https://colab.research.google.com/assets/colab-badge.svg\" alt=\"Open In Colab\"/></a>"
      ]
    },
    {
      "cell_type": "code",
      "execution_count": 93,
      "metadata": {
        "colab": {
          "base_uri": "https://localhost:8080/"
        },
        "id": "8OU40elsnJdf",
        "outputId": "f30e1bb1-5407-4b54-a3d9-c9698579e2c3"
      },
      "outputs": [
        {
          "output_type": "stream",
          "name": "stdout",
          "text": [
            "Drive already mounted at /content/drive; to attempt to forcibly remount, call drive.mount(\"/content/drive\", force_remount=True).\n",
            "(287846, 12)\n"
          ]
        },
        {
          "output_type": "stream",
          "name": "stderr",
          "text": [
            "<ipython-input-93-edac2e0cdce4>:16: DtypeWarning: Columns (8) have mixed types. Specify dtype option on import or set low_memory=False.\n",
            "  data = pd.read_csv(url)\n"
          ]
        }
      ],
      "source": [
        "import csv\n",
        "import pandas as pd\n",
        "import urllib.request\n",
        "from io import StringIO\n",
        "\n",
        "from google.colab import drive\n",
        "drive.mount('/content/drive')\n",
        "\n",
        "#Importar Archivo csv desde Pagina Datos Abiertos Gobierno de Colombia\n",
        "url = 'https://www.datos.gov.co/resource/e97j-vuf7.csv?$limit=500000&$offset=12'\n",
        "respuesta = urllib.request.urlopen(url)\n",
        "f = StringIO(bytearray(respuesta.read()).decode())\n",
        "archivo = csv.reader(f)\n",
        "\n",
        "#Conectar con el origen de datos\n",
        "data = pd.read_csv(url)\n",
        "print(data.shape)"
      ]
    },
    {
      "cell_type": "code",
      "source": [
        "# Eliminar las columna 'latitud y longitud'\n",
        "columnas_eliminar = ['latitud', 'longitud']\n",
        "data = data.drop(columnas_eliminar, axis=1)\n",
        "print(data.shape)"
      ],
      "metadata": {
        "colab": {
          "base_uri": "https://localhost:8080/"
        },
        "id": "vCXh6jOutUcK",
        "outputId": "85e5218b-b541-4b2b-806f-b74fc7485ab8"
      },
      "execution_count": 94,
      "outputs": [
        {
          "output_type": "stream",
          "name": "stdout",
          "text": [
            "(287846, 10)\n"
          ]
        }
      ]
    },
    {
      "cell_type": "code",
      "source": [
        "ruta = \"/content/drive/MyDrive/Talento_Tech_Archivos/Dataset Colombianos Detenidos en el Exterior.csv\"\n",
        "data.to_csv(ruta, index=False)"
      ],
      "metadata": {
        "id": "i0_d9m5M0ESC"
      },
      "execution_count": 95,
      "outputs": []
    },
    {
      "cell_type": "code",
      "source": [
        "url2 = 'https://www.datos.gov.co/resource/y399-rzwf.csv?$limit=900000&$offset=12'\n",
        "respuesta2 = urllib.request.urlopen(url2)\n",
        "g = StringIO(bytearray(respuesta2.read()).decode())\n",
        "archivo2 = csv.reader(g)\n",
        "\n",
        "#Conectar con el origen de datos\n",
        "data2 = pd.read_csv(url2)\n",
        "print(data2.shape)"
      ],
      "metadata": {
        "colab": {
          "base_uri": "https://localhost:8080/"
        },
        "id": "QX2j7DMy24L5",
        "outputId": "3185b518-dcf2-489c-f4f4-575b87de8abc"
      },
      "execution_count": 96,
      "outputs": [
        {
          "output_type": "stream",
          "name": "stdout",
          "text": [
            "(747465, 14)\n"
          ]
        }
      ]
    },
    {
      "cell_type": "code",
      "source": [
        "# Eliminar las columna 'estatura_cm'\n",
        "data2 = data2.drop('estatura_cm', axis=1)\n",
        "print(data2.shape)"
      ],
      "metadata": {
        "colab": {
          "base_uri": "https://localhost:8080/"
        },
        "id": "edtqQByq43Ax",
        "outputId": "0bf49b38-dfb1-4af4-f5b7-1ac6d57835a9"
      },
      "execution_count": 97,
      "outputs": [
        {
          "output_type": "stream",
          "name": "stdout",
          "text": [
            "(747465, 13)\n"
          ]
        }
      ]
    },
    {
      "cell_type": "code",
      "source": [
        "ruta2 = \"/content/drive/MyDrive/Talento_Tech_Archivos/Dataset Colombianos Registrados en el Exterior.csv\"\n",
        "data2.to_csv(ruta2, index=False)"
      ],
      "metadata": {
        "id": "lAumEAGr6Ep5"
      },
      "execution_count": 99,
      "outputs": []
    }
  ]
}